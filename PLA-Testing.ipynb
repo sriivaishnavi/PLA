{
 "cells": [
  {
   "cell_type": "code",
   "execution_count": 10,
   "metadata": {},
   "outputs": [
    {
     "name": "stdout",
     "output_type": "stream",
     "text": [
      "classified\n",
      "classified\n",
      "classified\n",
      "classified\n",
      "classified\n",
      "classified\n",
      "classified\n",
      "classified\n",
      "classified\n",
      "classified\n",
      "classified\n",
      "classified\n",
      "classified\n",
      "classified\n",
      "classified\n",
      "classified\n",
      "classified\n",
      "classified\n",
      "classified\n",
      "classified\n",
      "classified\n",
      "classified\n",
      "classified\n",
      "classified\n",
      "classified\n",
      "classified\n",
      "classified\n",
      "classified\n",
      "classified\n",
      "classified\n",
      "classified\n",
      "classified\n",
      "classified\n",
      "classified\n",
      "classified\n",
      "classified\n",
      "classified\n",
      "classified\n",
      "classified\n",
      "classified\n",
      "classified\n",
      "classified\n",
      "classified\n",
      "classified\n",
      "classified\n",
      "classified\n",
      "total misclassifications  0\n"
     ]
    }
   ],
   "source": [
    "import numpy as np\n",
    "import pandas as pd\n",
    "\n",
    "df = pd.read_csv(\"C:/Users/Kathu/Desktop/Iristest.csv\")\n",
    "A = df.values\n",
    "#print(A)\n",
    "w = [[ 1. ], [ 2.4], [ 5.2], [-9.2], [-4.1]]\n",
    "count = 0\n",
    "for i in range(len(A)):\n",
    "    h = A[i, 0:5].dot(w)\n",
    "    if (h > 0 and A[i,5] == 1) or (h < 0 and A[i,5] == -1):\n",
    "        print(\"classified\")\n",
    "    else:\n",
    "        print(\"misclassified\")\n",
    "        count += 1\n",
    "print(\"total misclassifications \", count)"
   ]
  },
  {
   "cell_type": "code",
   "execution_count": null,
   "metadata": {
    "collapsed": true
   },
   "outputs": [],
   "source": []
  },
  {
   "cell_type": "code",
   "execution_count": null,
   "metadata": {
    "collapsed": true
   },
   "outputs": [],
   "source": []
  },
  {
   "cell_type": "code",
   "execution_count": null,
   "metadata": {
    "collapsed": true
   },
   "outputs": [],
   "source": []
  }
 ],
 "metadata": {
  "kernelspec": {
   "display_name": "Python 3",
   "language": "python",
   "name": "python3"
  },
  "language_info": {
   "codemirror_mode": {
    "name": "ipython",
    "version": 3
   },
   "file_extension": ".py",
   "mimetype": "text/x-python",
   "name": "python",
   "nbconvert_exporter": "python",
   "pygments_lexer": "ipython3",
   "version": "3.6.3"
  }
 },
 "nbformat": 4,
 "nbformat_minor": 2
}
